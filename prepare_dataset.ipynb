{
 "cells": [
  {
   "cell_type": "code",
   "execution_count": 7,
   "metadata": {},
   "outputs": [],
   "source": [
    "import os\n",
    "from os import path\n",
    "from shutil import copyfile"
   ]
  },
  {
   "cell_type": "code",
   "execution_count": 25,
   "metadata": {},
   "outputs": [],
   "source": [
    "def prepare_train_and_validation(src_path, train_path, val_path):\n",
    "    \n",
    "    src_dirs = filter(lambda x: ' ' in x, os.listdir(src_path))\n",
    "    class_names = os.listdir(src_path)\n",
    "    print(src_path)\n",
    "    # classes and images\n",
    "    src_images = {}\n",
    "    train_images = {}\n",
    "    val_images = {}\n",
    "    train_ratio, val_ratio = 0.7, 0.3\n",
    "    \n",
    "    for name in class_names:\n",
    "        src_images[name] = os.listdir(path.join(src_path, name))\n",
    "    for label, images in src_images.items():\n",
    "        train_images[label] = images[:int(len(images) * train_ratio)]\n",
    "        val_images[label] = images[int(len(images) * train_ratio):]\n",
    "    \n",
    "    # create train directories\n",
    "    for directory in class_names:\n",
    "        name = directory\n",
    "        label = directory\n",
    "        directory = path.join(train_path, label)\n",
    "        if not os.path.exists(directory):\n",
    "            os.makedirs(directory)\n",
    "        for file_name in train_images[name]:\n",
    "            copyfile(path.join(path.join(src_path, name), file_name), path.join(directory, file_name))\n",
    "            \n",
    "    # create validation directories\n",
    "    for directory in class_names:\n",
    "        name = directory\n",
    "        label = directory\n",
    "        directory = path.join(val_path, label)\n",
    "        if not os.path.exists(directory):\n",
    "            os.makedirs(directory)\n",
    "        for file_name in val_images[name]:\n",
    "            copyfile(path.join(path.join(src_path, name), file_name), path.join(directory, file_name))"
   ]
  },
  {
   "cell_type": "code",
   "execution_count": 26,
   "metadata": {},
   "outputs": [
    {
     "name": "stdout",
     "output_type": "stream",
     "text": [
      "./clocks_crocodiles\n"
     ]
    }
   ],
   "source": [
    "src_path = './clocks_crocodiles'\n",
    "prepare_train_and_validation(src_path,'./train','./val')"
   ]
  },
  {
   "cell_type": "code",
   "execution_count": null,
   "metadata": {},
   "outputs": [],
   "source": []
  }
 ],
 "metadata": {
  "kernelspec": {
   "display_name": "Python 3",
   "language": "python",
   "name": "python3"
  },
  "language_info": {
   "codemirror_mode": {
    "name": "ipython",
    "version": 3
   },
   "file_extension": ".py",
   "mimetype": "text/x-python",
   "name": "python",
   "nbconvert_exporter": "python",
   "pygments_lexer": "ipython3",
   "version": "3.6.4"
  }
 },
 "nbformat": 4,
 "nbformat_minor": 2
}
